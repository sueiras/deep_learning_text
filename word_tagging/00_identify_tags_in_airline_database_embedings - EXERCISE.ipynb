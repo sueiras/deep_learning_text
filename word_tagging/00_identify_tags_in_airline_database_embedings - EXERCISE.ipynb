{
 "cells": [
  {
   "cell_type": "markdown",
   "metadata": {},
   "source": [
    "# Identify tags in airline database\n",
    "\n",
    "## Minimal code\n",
    "\n",
    "    - Read dataset\n",
    "    - transform data\n",
    "    - Minimal model\n",
    "        - Embedings\n",
    "        - Dense\n",
    "        \n"
   ]
  },
  {
   "cell_type": "code",
   "execution_count": null,
   "metadata": {},
   "outputs": [],
   "source": [
    "from __future__ import print_function\n",
    "\n",
    "import os \n",
    "import numpy as np \n",
    "\n",
    "import tensorflow as tf \n",
    "print(tf.__version__)\n",
    "\n",
    "os.environ[\"CUDA_DEVICE_ORDER\"]=\"PCI_BUS_ID\"\n",
    "os.environ[\"CUDA_VISIBLE_DEVICES\"]=\"0\"\n",
    "\n",
    "#Show images\n",
    "import matplotlib.pyplot as plt\n",
    "%matplotlib inline\n",
    "# plt configuration\n",
    "plt.rcParams['figure.figsize'] = (10, 10)        # size of images\n",
    "plt.rcParams['image.interpolation'] = 'nearest'  # show exact image\n",
    "plt.rcParams['image.cmap'] = 'gray'  # use grayscale "
   ]
  },
  {
   "cell_type": "markdown",
   "metadata": {},
   "source": [
    "## Dataset\n",
    "\n",
    "ATIS (Airline Travel Information System) dataset. Available in: https://github.com/mesnilgr/is13/blob/master/data/load.py\n",
    "\n",
    "### Example:\n",
    "\n",
    "Input (words)\tshow\tflights\tfrom\tBoston\tto\tNew\tYork\ttoday\n",
    "\n",
    "Output (labels)\tO\tO\tO\tB-dept\tO\tB-arr\tI-arr\tB-date\n",
    "\n",
    "\n"
   ]
  },
  {
   "cell_type": "code",
   "execution_count": null,
   "metadata": {},
   "outputs": [],
   "source": [
    "# Read data\n",
    "import pickle\n",
    "import sys\n",
    "\n",
    "atis_file = '/Users/jorge/data/training/text/atis/atis.pkl'\n",
    "#atis_file = '/home/ubuntu/data/training/text/atis/atis.pkl'\n",
    "\n",
    "with open(atis_file,'rb') as f:\n",
    "    if sys.version_info.major==2:\n",
    "        train, test, dicts = pickle.load(f) #python2.7\n",
    "    else:\n",
    "        train, test, dicts = pickle.load(f, encoding='bytes') #python3\n"
   ]
  },
  {
   "cell_type": "markdown",
   "metadata": {},
   "source": [
    "## train / test sets:\n",
    "    - X: list of input sequences\n",
    "    - label: List of target labels asociated to each word in each sentence.\n",
    "## Dictionaries\n",
    "    - labels2idx:  To decode the labels\n",
    "    - words2idx: To decode the sentences"
   ]
  },
  {
   "cell_type": "code",
   "execution_count": null,
   "metadata": {},
   "outputs": [],
   "source": [
    "#Dictionaries and train test partition\n",
    "w2idx = dict()\n",
    "for i in dicts[b'words2idx']:\n",
    "    w2idx[i.decode(\"utf-8\")] = dicts[b'words2idx'][i]\n",
    "\n",
    "ne2idx = dict()\n",
    "for i in dicts[b'tables2idx']:\n",
    "    ne2idx[i.decode(\"utf-8\")] = dicts[b'tables2idx'][i]\n",
    "\n",
    "labels2idx = dict()\n",
    "for i in dicts[b'labels2idx']:\n",
    "    labels2idx[i.decode(\"utf-8\")] = dicts[b'labels2idx'][i]    \n",
    "idx2w  = dict((v,k) for k,v in w2idx.items())\n",
    "idx2la = dict((v,k) for k,v in labels2idx.items())\n",
    "\n",
    "train_x, _, train_label = train\n",
    "test_x,  _,  test_label  = test\n",
    "\n",
    "\n",
    "# Visualize data\n",
    "wlength = 35\n",
    "for e in ['train','test']:\n",
    "    print(e)\n",
    "    for sw, sl in zip(eval(e+'_x')[:2], eval(e+'_label')[:2]):\n",
    "        print( 'WORD'.rjust(wlength), 'LABEL'.rjust(wlength))\n",
    "        for wx, la in zip(sw, sl): print( idx2w[wx].rjust(wlength), idx2la[la].rjust(wlength))\n",
    "        print( '\\n'+'**'*30+'\\n')\n"
   ]
  },
  {
   "cell_type": "code",
   "execution_count": null,
   "metadata": {},
   "outputs": [],
   "source": [
    "#Select words for the label 48: b'B-fromloc.city_name' in train and test to check that are different:\n",
    "for e in ['train','test']:\n",
    "    print(e)\n",
    "    print('---------')\n",
    "    for sw, sl in zip(eval(e+'_x')[:5], eval(e+'_label')[:5]):\n",
    "        for wx, la in zip(sw, sl): \n",
    "            if la==48:\n",
    "                print( idx2w[wx])\n",
    "    print('\\n')\n"
   ]
  },
  {
   "cell_type": "markdown",
   "metadata": {},
   "source": [
    "## Data transformation\n",
    "    - Convert the list of sequences of words into an array of words x characteristics.\n",
    "    - The characteristics are the context of the word in the sentence.\n",
    "        - For each word in the sentence, generate the context with the previous and the next words in the sentence.\n",
    "        - For words at the beggining and the end, use padding to complete the context."
   ]
  },
  {
   "cell_type": "code",
   "execution_count": null,
   "metadata": {},
   "outputs": [],
   "source": [
    "# Max value of word coding to assign the ID_PAD\n",
    "ID_PAD = np.max([np.max(tx) for tx in train_x]) + 1\n",
    "print('ID_PAD: ', ID_PAD)\n",
    "\n",
    "def context(l, size=3):\n",
    "    l = list(l)\n",
    "    lpadded = size // 2 * [ID_PAD] + l + size // 2 * [ID_PAD]\n",
    "    out = [lpadded[i:(i + size)] for i in range(len(l))]\n",
    "    return out\n",
    "\n",
    "#Example\n",
    "x = np.array([0, 1, 2, 3, 4], dtype=np.int32)\n",
    "print('Context vectors: ', context(x))"
   ]
  },
  {
   "cell_type": "code",
   "execution_count": null,
   "metadata": {},
   "outputs": [],
   "source": [
    "# Create train and test X y.\n",
    "X_trn=[]\n",
    "for s in train_x:\n",
    "    X_trn += context(s,size=10)\n",
    "X_trn = np.array(X_trn)\n",
    "\n",
    "X_tst=[]\n",
    "for s in test_x:\n",
    "    X_tst += context(s,size=10)\n",
    "X_tst = np.array(X_tst)\n",
    "\n",
    "print('X trn shape: ', X_trn.shape)\n",
    "print('X_tst shape: ',X_tst.shape)\n",
    "\n",
    "\n",
    "y_trn=[]\n",
    "for s in train_label:\n",
    "    y_trn += list(s)\n",
    "y_trn = np.array(y_trn)\n",
    "print('y_trn shape: ',y_trn.shape)\n",
    "\n",
    "y_tst=[]\n",
    "for s in test_label:\n",
    "    y_tst += list(s)\n",
    "y_tst = np.array(y_tst)\n",
    "print('y_tst shape: ',y_tst.shape)\n"
   ]
  },
  {
   "cell_type": "code",
   "execution_count": null,
   "metadata": {},
   "outputs": [],
   "source": [
    "print('Num labels: ',len(set(y_trn)))\n",
    "print('Num words: ',len(set(idx2w)))"
   ]
  },
  {
   "cell_type": "markdown",
   "metadata": {},
   "source": [
    "# First model\n",
    "\n",
    "## Architecture\n",
    "    - tf.nn.embedding_lookup\n",
    "    - Dense layer: tf.nn.relu(tf.matmul(x, W) + b)\n",
    "    "
   ]
  },
  {
   "cell_type": "code",
   "execution_count": null,
   "metadata": {},
   "outputs": [],
   "source": [
    "#General parameters\n",
    "LOG_DIR = '/tmp/tensorboard/airline/embeddings/'\n",
    "\n",
    "# data attributes\n",
    "input_seq_length = X_trn.shape[1]\n",
    "input_vocabulary_size = len(set(idx2w)) + 1\n",
    "output_length = 127\n",
    "\n",
    "#Model parameters\n",
    "embedding_size=64\n"
   ]
  },
  {
   "cell_type": "code",
   "execution_count": null,
   "metadata": {},
   "outputs": [],
   "source": [
    "# build the model: Simple LSTM with embedings\n",
    "\n",
    "from tensorflow.contrib.keras import layers, models, optimizers\n",
    "\n",
    "print('Build model 1')\n",
    "seq_input = layers.Input(shape=([input_seq_length]), name='prev') \n",
    "\n",
    "#----------------------------------------\n",
    "# Put your embedding layer here\n",
    "#----------------------------------------\n",
    "\n",
    "#----------------------------------------\n",
    "# You need to do some transformation to connect the embedding out to the dense layer\n",
    "#----------------------------------------\n",
    "\n",
    "#----------------------------------------\n",
    "# Put your final dense layer layer here\n",
    "#----------------------------------------\n",
    "output = \n",
    "\n",
    "model1 = models.Model(inputs=seq_input, outputs=output)\n",
    "model1.summary()\n",
    "\n",
    "# Optimizer\n",
    "adam_optimizer = optimizers.Adam()\n",
    "model1.compile(loss='sparse_categorical_crossentropy', optimizer=adam_optimizer, metrics=['accuracy'])\n"
   ]
  },
  {
   "cell_type": "code",
   "execution_count": null,
   "metadata": {},
   "outputs": [],
   "source": [
    "#Plot the model graph\n",
    "from tensorflow.contrib.keras import utils\n",
    "\n",
    "# Create model image\n",
    "utils.plot_model(model1, '/tmp/model1.png')\n",
    "\n",
    "# Show image\n",
    "plt.imshow(plt.imread('/tmp/model1.png'))\n"
   ]
  },
  {
   "cell_type": "code",
   "execution_count": null,
   "metadata": {},
   "outputs": [],
   "source": [
    "#Fit model\n",
    "history = model1.fit(X_trn, y_trn, batch_size=128, epochs=10,\n",
    "           validation_data=(X_tst, y_tst))\n"
   ]
  },
  {
   "cell_type": "code",
   "execution_count": null,
   "metadata": {},
   "outputs": [],
   "source": [
    "#Plot graphs in the notebook output\n",
    "plt.plot(history.history['acc'])\n",
    "plt.plot(history.history['val_acc'])\n",
    "plt.show()"
   ]
  },
  {
   "cell_type": "code",
   "execution_count": null,
   "metadata": {
    "collapsed": true
   },
   "outputs": [],
   "source": [
    "# Predict. Score new paragraph \n",
    "def score_paragraph(paragraph):\n",
    "    #Preprocess data\n",
    "    p_w = paragraph.split()\n",
    "    p_w_c = [w2idx[w] for w in  p_w]\n",
    "    x_score = np.array(context(p_w_c, size=10))\n",
    "    \n",
    "    # Score\n",
    "    pred_score = model1.predict(x_score)\n",
    "    response = [idx2la[l] for l in np.argmax(pred_score,axis=1)]\n",
    "    \n",
    "    return response\n",
    "\n",
    "\n",
    "paragraph = 'i need a business ticket in any flight with departure from alaska to las vegas monday with breakfast'\n",
    "response = score_paragraph(paragraph)\n",
    "wlength = 35\n",
    "for wx, la in zip(paragraph.split(), response): print( wx.rjust(wlength), la.rjust(wlength))\n"
   ]
  }
 ],
 "metadata": {
  "anaconda-cloud": {},
  "kernelspec": {
   "display_name": "Python 3",
   "language": "python",
   "name": "python3"
  },
  "language_info": {
   "codemirror_mode": {
    "name": "ipython",
    "version": 3
   },
   "file_extension": ".py",
   "mimetype": "text/x-python",
   "name": "python",
   "nbconvert_exporter": "python",
   "pygments_lexer": "ipython3",
   "version": "3.5.4"
  }
 },
 "nbformat": 4,
 "nbformat_minor": 1
}
