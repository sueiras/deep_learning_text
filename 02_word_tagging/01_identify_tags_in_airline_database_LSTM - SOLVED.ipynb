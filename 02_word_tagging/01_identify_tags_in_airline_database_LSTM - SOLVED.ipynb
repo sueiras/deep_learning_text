{
 "cells": [
  {
   "cell_type": "markdown",
   "metadata": {},
   "source": [
    "# Identify tags in airline database\n",
    "\n",
    "## LSTM network\n",
    "\n",
    "    - Improving the model of: 00_identify_tags_in_airline_database_embedings - SOLVED  \n"
   ]
  },
  {
   "cell_type": "code",
   "execution_count": 2,
   "metadata": {},
   "outputs": [
    {
     "name": "stdout",
     "output_type": "stream",
     "text": [
      "1.3.0\n"
     ]
    }
   ],
   "source": [
    "from __future__ import print_function\n",
    "\n",
    "import sys\n",
    "import os \n",
    "import numpy as np \n",
    "import tensorflow as tf \n",
    "print(tf.__version__)\n",
    "\n",
    "os.environ[\"CUDA_DEVICE_ORDER\"]=\"PCI_BUS_ID\"\n",
    "os.environ[\"CUDA_VISIBLE_DEVICES\"]=\"0\"\n",
    "\n",
    "#Show images\n",
    "import matplotlib.pyplot as plt\n",
    "%matplotlib inline\n",
    "# plt configuration\n",
    "plt.rcParams['figure.figsize'] = (10, 10)        # size of images\n",
    "plt.rcParams['image.interpolation'] = 'nearest'  # show exact image\n",
    "plt.rcParams['image.cmap'] = 'gray'  # use grayscale "
   ]
  },
  {
   "cell_type": "markdown",
   "metadata": {},
   "source": [
    "## Dataset transformation\n"
   ]
  },
  {
   "cell_type": "code",
   "execution_count": 3,
   "metadata": {},
   "outputs": [
    {
     "name": "stdout",
     "output_type": "stream",
     "text": [
      "ID_PAD:  572\n",
      "X trn shape:  (56590, 10)\n",
      "X_tst shape:  (9198, 10)\n",
      "y_trn shape:  (56590,)\n",
      "y_tst shape:  (9198,)\n",
      "Num labels:  121\n",
      "Num words:  572\n"
     ]
    }
   ],
   "source": [
    "# Read data\n",
    "import pickle\n",
    "\n",
    "atis_file = '../data/atis/atis.pkl'\n",
    "\n",
    "with open(atis_file,'rb') as f:\n",
    "    if sys.version_info.major==2:\n",
    "        train, test, dicts = pickle.load(f) #python2.7\n",
    "    else:\n",
    "        train, test, dicts = pickle.load(f, encoding='bytes') #python3\n",
    "\n",
    "#Dictionaries and train test partition\n",
    "w2idx, ne2idx, labels2idx = dicts[b'words2idx'], dicts[b'tables2idx'], dicts[b'labels2idx']\n",
    "    \n",
    "idx2w  = dict((v,k) for k,v in w2idx.items())\n",
    "idx2la = dict((v,k) for k,v in labels2idx.items())\n",
    "\n",
    "train_x, _, train_label = train\n",
    "test_x,  _,  test_label  = test\n",
    "\n",
    "\n",
    "# Max value of word coding to assign the ID_PAD\n",
    "ID_PAD = np.max([np.max(tx) for tx in train_x]) + 1\n",
    "print('ID_PAD: ', ID_PAD)\n",
    "\n",
    "def context(l, size=3):\n",
    "    l = list(l)\n",
    "    lpadded = size // 2 * [ID_PAD] + l + size // 2 * [ID_PAD]\n",
    "    out = [lpadded[i:(i + size)] for i in range(len(l))]\n",
    "    return out\n",
    "\n",
    "\n",
    "# Create train and test X y.\n",
    "X_trn=[]\n",
    "for s in train_x:\n",
    "    X_trn += context(s,size=10)\n",
    "X_trn = np.array(X_trn)\n",
    "\n",
    "X_tst=[]\n",
    "for s in test_x:\n",
    "    X_tst += context(s,size=10)\n",
    "X_tst = np.array(X_tst)\n",
    "\n",
    "print('X trn shape: ', X_trn.shape)\n",
    "print('X_tst shape: ',X_tst.shape)\n",
    "\n",
    "\n",
    "y_trn=[]\n",
    "for s in train_label:\n",
    "    y_trn += list(s)\n",
    "y_trn = np.array(y_trn)\n",
    "print('y_trn shape: ',y_trn.shape)\n",
    "\n",
    "y_tst=[]\n",
    "for s in test_label:\n",
    "    y_tst += list(s)\n",
    "y_tst = np.array(y_tst)\n",
    "print('y_tst shape: ',y_tst.shape)\n",
    "\n",
    "\n",
    "print('Num labels: ',len(set(y_trn)))\n",
    "print('Num words: ',len(set(idx2w)))"
   ]
  },
  {
   "cell_type": "markdown",
   "metadata": {},
   "source": [
    "# Simpe LSTM model\n"
   ]
  },
  {
   "cell_type": "code",
   "execution_count": 4,
   "metadata": {
    "collapsed": true
   },
   "outputs": [],
   "source": [
    "# data attributes\n",
    "input_seq_length = X_trn.shape[1]\n",
    "input_vocabulary_size = len(set(idx2w)) + 1\n",
    "output_length = 127\n",
    "\n",
    "#Model parameters\n",
    "embedding_size=64\n",
    "num_hidden_lstm = 128\n"
   ]
  },
  {
   "cell_type": "code",
   "execution_count": 5,
   "metadata": {},
   "outputs": [
    {
     "name": "stdout",
     "output_type": "stream",
     "text": [
      "Build model 1\n",
      "_________________________________________________________________\n",
      "Layer (type)                 Output Shape              Param #   \n",
      "=================================================================\n",
      "prev (InputLayer)            (None, 10)                0         \n",
      "_________________________________________________________________\n",
      "embedding_1 (Embedding)      (None, 10, 64)            36672     \n",
      "_________________________________________________________________\n",
      "lstm_1 (LSTM)                (None, 128)               98816     \n",
      "_________________________________________________________________\n",
      "dense_1 (Dense)              (None, 127)               16383     \n",
      "=================================================================\n",
      "Total params: 151,871\n",
      "Trainable params: 151,871\n",
      "Non-trainable params: 0\n",
      "_________________________________________________________________\n"
     ]
    }
   ],
   "source": [
    "# build the model: Simple LSTM with embedings\n",
    "\n",
    "from tensorflow.contrib.keras import layers, models, optimizers\n",
    "\n",
    "print('Build model 1')\n",
    "seq_input = layers.Input(shape=([input_seq_length]), name='prev') \n",
    "    \n",
    "embeds = layers.Embedding(input_vocabulary_size, embedding_size)(seq_input)\n",
    "\n",
    "forwards = layers.LSTM(num_hidden_lstm, return_sequences=False)(embeds)\n",
    "\n",
    "output = layers.Dense(output_length, activation='softmax')(forwards)\n",
    "\n",
    "model1 = models.Model(inputs=seq_input, outputs=output)\n",
    "model1.summary()\n",
    "\n",
    "# Optimizer\n",
    "adam_optimizer = optimizers.Adam()\n",
    "model1.compile(loss='sparse_categorical_crossentropy', optimizer=adam_optimizer, metrics=['accuracy'])\n"
   ]
  },
  {
   "cell_type": "code",
   "execution_count": 6,
   "metadata": {},
   "outputs": [
    {
     "name": "stdout",
     "output_type": "stream",
     "text": [
      "Train on 56590 samples, validate on 9198 samples\n",
      "Epoch 1/20\n",
      "56590/56590 [==============================] - 19s - loss: 1.5899 - acc: 0.6668 - val_loss: 1.2571 - val_acc: 0.7272\n",
      "Epoch 2/20\n",
      "56590/56590 [==============================] - 19s - loss: 0.8327 - acc: 0.8046 - val_loss: 0.7740 - val_acc: 0.8050\n",
      "Epoch 3/20\n",
      "56590/56590 [==============================] - 21s - loss: 0.4197 - acc: 0.9008 - val_loss: 0.4177 - val_acc: 0.9070\n",
      "Epoch 4/20\n",
      "56590/56590 [==============================] - 21s - loss: 0.2628 - acc: 0.9380 - val_loss: 0.3263 - val_acc: 0.9291\n",
      "Epoch 5/20\n",
      "56590/56590 [==============================] - 20s - loss: 0.1906 - acc: 0.9552 - val_loss: 0.2527 - val_acc: 0.9437\n",
      "Epoch 6/20\n",
      "56590/56590 [==============================] - 20s - loss: 0.1418 - acc: 0.9667 - val_loss: 0.2275 - val_acc: 0.9517\n",
      "Epoch 7/20\n",
      "56590/56590 [==============================] - 20s - loss: 0.1119 - acc: 0.9735 - val_loss: 0.2367 - val_acc: 0.9443\n",
      "Epoch 8/20\n",
      "56590/56590 [==============================] - 20s - loss: 0.0931 - acc: 0.9783 - val_loss: 0.2079 - val_acc: 0.9522\n",
      "Epoch 9/20\n",
      "56590/56590 [==============================] - 21s - loss: 0.0785 - acc: 0.9813 - val_loss: 0.1790 - val_acc: 0.9644\n",
      "Epoch 10/20\n",
      "56590/56590 [==============================] - 21s - loss: 0.0685 - acc: 0.9835 - val_loss: 0.1550 - val_acc: 0.9683\n",
      "Epoch 11/20\n",
      "56590/56590 [==============================] - 21s - loss: 0.0610 - acc: 0.9851 - val_loss: 0.1638 - val_acc: 0.9667\n",
      "Epoch 12/20\n",
      "56590/56590 [==============================] - 21s - loss: 0.0514 - acc: 0.9874 - val_loss: 0.1558 - val_acc: 0.9693\n",
      "Epoch 13/20\n",
      "56590/56590 [==============================] - 21s - loss: 0.0483 - acc: 0.9878 - val_loss: 0.1534 - val_acc: 0.9716\n",
      "Epoch 14/20\n",
      "56590/56590 [==============================] - 21s - loss: 0.0423 - acc: 0.9893 - val_loss: 0.1552 - val_acc: 0.9721\n",
      "Epoch 15/20\n",
      "56590/56590 [==============================] - 23s - loss: 0.0386 - acc: 0.9901 - val_loss: 0.1562 - val_acc: 0.9717\n",
      "Epoch 16/20\n",
      "56590/56590 [==============================] - 21s - loss: 0.0365 - acc: 0.9906 - val_loss: 0.1541 - val_acc: 0.9727\n",
      "Epoch 17/20\n",
      "56590/56590 [==============================] - 21s - loss: 0.0318 - acc: 0.9916 - val_loss: 0.1592 - val_acc: 0.9708\n",
      "Epoch 18/20\n",
      "56590/56590 [==============================] - 21s - loss: 0.0283 - acc: 0.9925 - val_loss: 0.1611 - val_acc: 0.9705\n",
      "Epoch 19/20\n",
      "56590/56590 [==============================] - 21s - loss: 0.0278 - acc: 0.9920 - val_loss: 0.1572 - val_acc: 0.9714\n",
      "Epoch 20/20\n",
      "56590/56590 [==============================] - 23s - loss: 0.0239 - acc: 0.9933 - val_loss: 0.1576 - val_acc: 0.9708\n"
     ]
    }
   ],
   "source": [
    "#Fit model\n",
    "from tensorflow.contrib.keras import callbacks\n",
    "\n",
    "tb_callback = callbacks.TensorBoard(log_dir='/tmp/tensorboard/airline/LSTM/')\n",
    "\n",
    "history = model1.fit(X_trn, y_trn, batch_size=128, epochs=20,\n",
    "           validation_data=(X_tst, y_tst), callbacks=[tb_callback])\n"
   ]
  },
  {
   "cell_type": "code",
   "execution_count": 7,
   "metadata": {},
   "outputs": [
    {
     "data": {
      "image/png": "[encoded data removed]",
      "text/plain": [
       "<matplotlib.figure.Figure at 0x11d9445c0>"
      ]
     },
     "metadata": {},
     "output_type": "display_data"
    }
   ],
   "source": [
    "#Plot graphs in the notebook output\n",
    "plt.plot(history.history['acc'])\n",
    "plt.plot(history.history['val_acc'])\n",
    "plt.show()"
   ]
  },
  {
   "cell_type": "code",
   "execution_count": 8,
   "metadata": {},
   "outputs": [
    {
     "name": "stdout",
     "output_type": "stream",
     "text": [
      "[[ 23   0   3   1   0   0   0   0   0   0   0   0   0   0   0]\n",
      " [  1  31   0   2   0   0   0   0   0   0   0   0   0   0   0]\n",
      " [  0   0 101   0   0   0   0   0   0   0   0   0   0   0   0]\n",
      " [  0   0   0   4   0   0   0   0   0   0   0   0   0   0   0]\n",
      " [  0   0   0   0   8   0   0   0   0   0   0   0   0   0   0]\n",
      " [  0   0   0   0   0   1   0   0   0   0   0   0   0   0   0]\n",
      " [  0   0   0   0   0   0   5   0   0   0   0   0   0   0   0]\n",
      " [  0   0   0   0   0   0   0   4   0   0   0   0   0   0   0]\n",
      " [  0   0   0   0   0   0   0   0   4   0   0   0   0   0   0]\n",
      " [  0   0   0   0   0   0   0   0   0   0   0   0   0   0   0]\n",
      " [  0   0   0   0   0   0   0   0   0   0   0   0   0   1   0]\n",
      " [  0   0   0   0   0   0   0   0   0   0   0   4   0   0   0]\n",
      " [  0   0   0   0   0   0   0   0   0   0   0   0   8   0   0]\n",
      " [  0   0   0   0   0   0   0   0   0   0   0   0   0  32   0]\n",
      " [  0   0   0   0   0   0   0   0   0   0   0   0   0   0  28]]\n"
     ]
    }
   ],
   "source": [
    "# real vs predict matrix using sklearn\n",
    "from sklearn.metrics import confusion_matrix\n",
    "\n",
    "p_test = model1.predict(X_tst)\n",
    "pred_test = np.argmax(p_test, axis=1)\n",
    "\n",
    "print(confusion_matrix(y_tst, pred_test)[:15,:15])\n"
   ]
  },
  {
   "cell_type": "code",
   "execution_count": null,
   "metadata": {
    "collapsed": true
   },
   "outputs": [],
   "source": []
  }
 ],
 "metadata": {
  "anaconda-cloud": {},
  "kernelspec": {
   "display_name": "Python [conda env:tm]",
   "language": "python",
   "name": "conda-env-tm-py"
  },
  "language_info": {
   "codemirror_mode": {
    "name": "ipython",
    "version": 3
   },
   "file_extension": ".py",
   "mimetype": "text/x-python",
   "name": "python",
   "nbconvert_exporter": "python",
   "pygments_lexer": "ipython3",
   "version": "3.5.4"
  }
 },
 "nbformat": 4,
 "nbformat_minor": 1
}
