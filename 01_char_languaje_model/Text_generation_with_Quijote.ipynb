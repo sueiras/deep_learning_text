{
 "cells": [
  {
   "cell_type": "markdown",
   "metadata": {},
   "source": [
    "# Create a RNN model to text generation\n",
    "- RNN model at character level\n",
    "    - Input: n character previous\n",
    "    - Output: next character\n",
    "    - Model LSTM\n",
    "- Use 'El Quijote' to train the generator\n"
   ]
  },
  {
   "cell_type": "code",
   "execution_count": 2,
   "metadata": {},
   "outputs": [
    {
     "name": "stdout",
     "output_type": "stream",
     "text": [
      "Tensorflow version:  1.3.0\n"
     ]
    }
   ],
   "source": [
    "# Header\n",
    "from __future__ import print_function\n",
    "\n",
    "import numpy as np\n",
    "import tensorflow as tf\n",
    "print('Tensorflow version: ', tf.__version__)\n",
    "import time\n",
    "\n",
    "#Show images\n",
    "import matplotlib.pyplot as plt\n",
    "%matplotlib inline\n",
    "# plt configuration\n",
    "plt.rcParams['figure.figsize'] = (10, 10)        # size of images\n",
    "plt.rcParams['image.interpolation'] = 'nearest'  # show exact image\n",
    "plt.rcParams['image.cmap'] = 'gray'  # use grayscale \n",
    "\n",
    "\n",
    "# GPU devices visible by python\n",
    "import os\n",
    "os.environ[\"CUDA_DEVICE_ORDER\"]=\"PCI_BUS_ID\" \n",
    "os.environ[\"CUDA_VISIBLE_DEVICES\"]=\"0\"\n",
    "\n",
    "\n",
    "path = '../data/'"
   ]
  },
  {
   "cell_type": "markdown",
   "metadata": {},
   "source": [
    "## Download data and generate sequences\n",
    "\n",
    "Download quijote from guttenberg project\n",
    "\n",
    "wget http://www.gutenberg.org/cache/epub/2000/pg2000.txt"
   ]
  },
  {
   "cell_type": "code",
   "execution_count": 3,
   "metadata": {},
   "outputs": [
    {
     "name": "stdout",
     "output_type": "stream",
     "text": [
      "corpus length: 2117498\n",
      "corpus length deleted: 2108713\n",
      "Chars list:  ['\\n', ' ', '!', ',', '.', ':', ';', '?', 'a', 'b', 'c', 'd', 'e', 'f', 'g', 'h', 'i', 'j', 'k', 'l', 'm', 'n', 'o', 'p', 'q', 'r', 's', 't', 'u', 'v', 'w', 'x', 'y', 'z', '¡', '¿', 'á', 'é', 'í', 'ñ', 'ó', 'ú', 'ü']\n",
      "total chars: 43\n"
     ]
    }
   ],
   "source": [
    "#Read book\n",
    "text = open(path + \"pg2000.txt\").read().lower()\n",
    "print('corpus length:', len(text))\n",
    "\n",
    "# Simplify text to improve the semantic capacities of the model.\n",
    "delete_chars = [ '\"', '#', '$', '%', \"'\", '(', ')', '*', '-', '/', '0', '1', '2', '3', '4', '5', '6',\n",
    "                '7', '8', '9', '@', '[', ']', '«', '»', 'à', 'ï', 'ù', '\\ufeff']\n",
    "for ch in delete_chars:\n",
    "    text=text.replace(ch,\"\")\n",
    "\n",
    "print('corpus length deleted:', len(text))\n",
    "\n",
    "chars = sorted(list(set(text)))\n",
    "print('Chars list: ', chars)\n",
    "print('total chars:', len(chars))\n",
    "\n",
    "#Dictionaries to convert char to num & num to char\n",
    "char_indices = dict((c, i) for i, c in enumerate(chars))\n",
    "indices_char = dict((i, c) for i, c in enumerate(chars))\n"
   ]
  },
  {
   "cell_type": "code",
   "execution_count": 4,
   "metadata": {},
   "outputs": [
    {
     "name": "stdout",
     "output_type": "stream",
     "text": [
      "nb sequences: 701898\n",
      "s de\n",
      "santos, sino pr - o\n"
     ]
    }
   ],
   "source": [
    "# cut the text in semi-redundant sequences of maxlen characters\n",
    "# One sentence of length 20 for each 3 characters\n",
    "maxlen = 20\n",
    "step = 3\n",
    "sentences = []\n",
    "next_chars = []\n",
    "for i in range(3000, len(text) - maxlen, step): #Start in character 3000 to exclude Gutenberg header.\n",
    "    sentences.append(text[i: i + maxlen])\n",
    "    next_chars.append(text[i + maxlen])\n",
    "print('nb sequences:', len(sentences))\n",
    "print(sentences[4996], '-', next_chars[4996])"
   ]
  },
  {
   "cell_type": "markdown",
   "metadata": {},
   "source": [
    "## Train the model"
   ]
  },
  {
   "cell_type": "code",
   "execution_count": 5,
   "metadata": {},
   "outputs": [
    {
     "name": "stdout",
     "output_type": "stream",
     "text": [
      "Vectorization...\n",
      "X shape:  (701898, 20, 43)\n",
      "y shape:  (701898, 43)\n"
     ]
    }
   ],
   "source": [
    "'''\n",
    "X: One row by sentence\n",
    "    in each row a matrix of bool 0/1 of dim length_sentence x num_chars coding the sentence. Dummy variables\n",
    "y: One row by sentence\n",
    "    in each row a vector of bool of lengt num_chars with 1 in the next char position\n",
    "'''\n",
    "\n",
    "print('Vectorization...')\n",
    "X = np.zeros((len(sentences), maxlen, len(chars)), dtype=np.bool)\n",
    "y = np.zeros((len(sentences), len(chars)), dtype=np.bool)\n",
    "#X = np.zeros((len(sentences), maxlen, len(chars)), dtype=np.float16)\n",
    "#y = np.zeros((len(sentences), len(chars)), dtype=np.float16)\n",
    "\n",
    "for i, sentence in enumerate(sentences):\n",
    "    for t, char in enumerate(sentence):\n",
    "        X[i, t, char_indices[char]] = 1\n",
    "    y[i, char_indices[next_chars[i]]] = 1\n",
    "\n",
    "print('X shape: ',X.shape)\n",
    "print('y shape: ',y.shape)"
   ]
  },
  {
   "cell_type": "code",
   "execution_count": 6,
   "metadata": {},
   "outputs": [
    {
     "name": "stdout",
     "output_type": "stream",
     "text": [
      "Build model 1\n",
      "_________________________________________________________________\n",
      "Layer (type)                 Output Shape              Param #   \n",
      "=================================================================\n",
      "prev (InputLayer)            (None, 20, 43)            0         \n",
      "_________________________________________________________________\n",
      "lstm_1 (LSTM)                (None, None, 1024)        4374528   \n",
      "_________________________________________________________________\n",
      "lstm_2 (LSTM)                (None, None, 1024)        8392704   \n",
      "_________________________________________________________________\n",
      "lstm_3 (LSTM)                (None, 1024)              8392704   \n",
      "_________________________________________________________________\n",
      "dense_1 (Dense)              (None, 43)                44075     \n",
      "=================================================================\n",
      "Total params: 21,204,011\n",
      "Trainable params: 21,204,011\n",
      "Non-trainable params: 0\n",
      "_________________________________________________________________\n"
     ]
    }
   ],
   "source": [
    "# build the model: 2 stacked LSTM\n",
    "from tensorflow.contrib.keras import models, layers, optimizers\n",
    "\n",
    "print('Build model 1')\n",
    "seq_prev_input = layers.Input(shape=(maxlen, len(chars)), name='prev') \n",
    "                \n",
    "# apply forwards LSTM\n",
    "forwards1 = layers.LSTM(1024, return_sequences=True,  dropout=0.3, recurrent_dropout=0.3)(seq_prev_input)\n",
    "\n",
    "forwards2 = layers.LSTM(1024, return_sequences=True,  dropout=0.3, recurrent_dropout=0.3)(forwards1)\n",
    "\n",
    "forwards3 = layers.LSTM(1024, return_sequences=False, dropout=0.3, recurrent_dropout=0.3)(forwards2)\n",
    "\n",
    "output = layers.Dense(len(chars), activation='softmax')(forwards3)\n",
    "\n",
    "model = models.Model(inputs=seq_prev_input, outputs=output)\n",
    "model.summary()\n",
    "\n",
    "# try using different optimizers and different optimizer configs\n",
    "nadam = optimizers.Nadam(lr=0.0002, schedule_decay=0.000025)\n",
    "model.compile(loss='categorical_crossentropy', optimizer=nadam, metrics=['accuracy'])\n"
   ]
  },
  {
   "cell_type": "code",
   "execution_count": 7,
   "metadata": {
    "scrolled": false
   },
   "outputs": [
    {
     "name": "stdout",
     "output_type": "stream",
     "text": [
      "Train on 600000 samples, validate on 101898 samples\n",
      "Epoch 1/12\n",
      "600000/600000 [==============================] - 505s - loss: 2.4033 - acc: 0.2875 - val_loss: 2.0501 - val_acc: 0.3810\n",
      "Epoch 2/12\n",
      "600000/600000 [==============================] - 508s - loss: 1.8432 - acc: 0.4291 - val_loss: 1.7644 - val_acc: 0.4735\n",
      "Epoch 3/12\n",
      "600000/600000 [==============================] - 518s - loss: 1.6088 - acc: 0.4989 - val_loss: 1.6457 - val_acc: 0.5136\n",
      "Epoch 4/12\n",
      "600000/600000 [==============================] - 518s - loss: 1.4872 - acc: 0.5347 - val_loss: 1.5881 - val_acc: 0.5304\n",
      "Epoch 5/12\n",
      "600000/600000 [==============================] - 518s - loss: 1.4123 - acc: 0.5544 - val_loss: 1.5485 - val_acc: 0.5434\n",
      "Epoch 6/12\n",
      "600000/600000 [==============================] - 518s - loss: 1.3587 - acc: 0.5696 - val_loss: 1.5309 - val_acc: 0.5489\n",
      "Epoch 7/12\n",
      "600000/600000 [==============================] - 518s - loss: 1.3166 - acc: 0.5809 - val_loss: 1.5132 - val_acc: 0.5545\n",
      "Epoch 8/12\n",
      "600000/600000 [==============================] - 518s - loss: 1.2822 - acc: 0.5906 - val_loss: 1.5066 - val_acc: 0.5596\n",
      "Epoch 9/12\n",
      "600000/600000 [==============================] - 518s - loss: 1.2518 - acc: 0.5990 - val_loss: 1.4951 - val_acc: 0.5640\n",
      "Epoch 10/12\n",
      "600000/600000 [==============================] - 518s - loss: 1.2245 - acc: 0.6065 - val_loss: 1.4966 - val_acc: 0.5655\n",
      "Epoch 11/12\n",
      "600000/600000 [==============================] - 518s - loss: 1.2002 - acc: 0.6128 - val_loss: 1.4907 - val_acc: 0.5687\n",
      "Epoch 12/12\n",
      "600000/600000 [==============================] - 518s - loss: 1.1766 - acc: 0.6200 - val_loss: 1.4892 - val_acc: 0.5692\n"
     ]
    }
   ],
   "source": [
    "#Fit model\n",
    "history = model.fit(X[:600000], y[:600000], batch_size=256, epochs=12,\n",
    "           validation_data=(X[600000:], y[600000:]))\n",
    "\n"
   ]
  },
  {
   "cell_type": "raw",
   "metadata": {
    "collapsed": true
   },
   "source": [
    "Train on 600000 samples, validate on 101898 samples\n",
    "Epoch 1/12\n",
    "600000/600000 [==============================] - 498s - loss: 2.4591 - acc: 0.2761 - val_loss: 2.0847 - val_acc: 0.3696\n",
    "Epoch 2/12\n",
    "600000/600000 [==============================] - 502s - loss: 1.8640 - acc: 0.4239 - val_loss: 1.7899 - val_acc: 0.4668\n",
    "Epoch 3/12\n",
    "600000/600000 [==============================] - 500s - loss: 1.6327 - acc: 0.4928 - val_loss: 1.6655 - val_acc: 0.5043\n",
    "Epoch 4/12\n",
    "600000/600000 [==============================] - 498s - loss: 1.5090 - acc: 0.5279 - val_loss: 1.5971 - val_acc: 0.5277\n",
    "Epoch 5/12\n",
    "600000/600000 [==============================] - 502s - loss: 1.4298 - acc: 0.5502 - val_loss: 1.5617 - val_acc: 0.5406\n",
    "Epoch 6/12\n",
    "600000/600000 [==============================] - 499s - loss: 1.3731 - acc: 0.5663 - val_loss: 1.5364 - val_acc: 0.5490\n",
    "Epoch 7/12\n",
    "600000/600000 [==============================] - 503s - loss: 1.3293 - acc: 0.5780 - val_loss: 1.5153 - val_acc: 0.5558\n",
    "Epoch 8/12\n",
    "600000/600000 [==============================] - 498s - loss: 1.2930 - acc: 0.5880 - val_loss: 1.5035 - val_acc: 0.5598\n",
    "Epoch 9/12\n",
    "600000/600000 [==============================] - 484s - loss: 1.2626 - acc: 0.5956 - val_loss: 1.4958 - val_acc: 0.5621\n",
    "Epoch 10/12\n",
    "600000/600000 [==============================] - 484s - loss: 1.2349 - acc: 0.6040 - val_loss: 1.4885 - val_acc: 0.5675\n",
    "Epoch 11/12\n",
    "600000/600000 [==============================] - 484s - loss: 1.2103 - acc: 0.6106 - val_loss: 1.4891 - val_acc: 0.5670\n",
    "Epoch 12/12\n",
    "600000/600000 [==============================] - 484s - loss: 1.1856 - acc: 0.6176 - val_loss: 1.4867 - val_acc: 0.5681"
   ]
  },
  {
   "cell_type": "code",
   "execution_count": 8,
   "metadata": {},
   "outputs": [
    {
     "data": {
      "image/png": "[encoded data removed]",
      "text/plain": [
       "<matplotlib.figure.Figure at 0x7f0289370978>"
      ]
     },
     "metadata": {},
     "output_type": "display_data"
    }
   ],
   "source": [
    "import matplotlib.pyplot as plt\n",
    "%matplotlib inline\n",
    "plt.rcParams['figure.figsize'] = (8, 8)\n",
    "\n",
    "plt.plot(history.history['acc'])\n",
    "plt.plot(history.history['val_acc'])\n",
    "plt.show()"
   ]
  },
  {
   "cell_type": "code",
   "execution_count": 9,
   "metadata": {},
   "outputs": [],
   "source": [
    "# Save model\n",
    "\n",
    "#models.save_model(model, path + '../models/text_generation_model1024.h5')"
   ]
  },
  {
   "cell_type": "markdown",
   "metadata": {},
   "source": [
    "## Evaluate model"
   ]
  },
  {
   "cell_type": "code",
   "execution_count": 8,
   "metadata": {},
   "outputs": [
    {
     "name": "stdout",
     "output_type": "stream",
     "text": [
      "WARNING:tensorflow:Error in loading the saved optimizer state. As a result, your model is starting with a freshly initialized optimizer.\n"
     ]
    }
   ],
   "source": [
    "# Load model\n",
    "\n",
    "model1 = models.load_model('../models/text_generation_model1024.h5')"
   ]
  },
  {
   "cell_type": "code",
   "execution_count": 9,
   "metadata": {
    "collapsed": true
   },
   "outputs": [],
   "source": [
    "maxlen = 20\n",
    "\n",
    "\n",
    "def sample(a, diversity=1.0):\n",
    "    '''\n",
    "    helper function to sample an index from a probability array\n",
    "    - Diversity control the level of randomless\n",
    "    '''\n",
    "    a = np.log(a) / diversity\n",
    "    a = np.exp(a) / np.sum(np.exp(a), axis=0)\n",
    "    a /= np.sum(a+0.0000001) #Precission error\n",
    "    return np.argmax(np.random.multinomial(1, a, 1))\n",
    "\n",
    "\n",
    "def generate_text(sentence, diversity, current_model, num_char=400):\n",
    "    sentence_init = sentence\n",
    "    generated = ''\n",
    "    for i in range(400):\n",
    "        x = np.zeros((1, maxlen, len(chars)))\n",
    "        for t, char in enumerate(sentence):\n",
    "            x[0, t, char_indices[char]] = 1.\n",
    "        preds = current_model.predict(x, verbose=0)[0]\n",
    "        next_index = sample(preds, diversity)\n",
    "        next_char = indices_char[next_index]\n",
    "        generated += next_char\n",
    "        sentence = sentence[1:] + next_char\n",
    "    print()\n",
    "    print('DIVERSITY: ',diversity)\n",
    "    print(sentence_init + generated)\n"
   ]
  },
  {
   "cell_type": "code",
   "execution_count": 10,
   "metadata": {},
   "outputs": [
    {
     "name": "stdout",
     "output_type": "stream",
     "text": [
      "\n",
      "DIVERSITY:  0.2\n",
      "mire vuestra merced dice que el que le había de ser de mi padre y la mano en la mano y con mucha presencia de la cabeza y de la mano en la cabeza, y el cual se le había de ser de pasar las aventuras de su señora dulcinea del toboso caballero de la mano y de la mano en la cabeza, y dijo:\n",
      "\n",
      "a lo que respondió sancho, que si esto se le había de dar muchos y mal a su padre y de la mano en la cabeza, y que en la cual no le\n"
     ]
    }
   ],
   "source": [
    "sentence = 'mire vuestra merced '\n",
    "generate_text(sentence, 0.2, model1)"
   ]
  },
  {
   "cell_type": "code",
   "execution_count": 15,
   "metadata": {},
   "outputs": [
    {
     "name": "stdout",
     "output_type": "stream",
     "text": [
      "\n",
      "DIVERSITY:  0.2\n",
      "mire vuestra merced se ha de hacer esta sazón don quijote, que es tan buen señor don quijote, y que el trabajo que estaba en el mundo de la mancha, que es tan buen señor don quijote, que es tan como el que le había de ser de la mano en la condesa y de la mano en la venta que el castillo de la mancha, que el caballero de la mano y de la mano y de la mano en la cabeza, y sin duda, que es menester un poco de la mano en \n",
      "\n",
      "DIVERSITY:  0.5\n",
      "mire vuestra merced tan siempre en los caballeros andantes, de malda fe de ser esos años de su hija y con mucha presteza del\n",
      "toboso, y que no hay más valiente que allí le están en la tierra y la mano por el de la mano en la mano de su amo que un hombre de la silla, y los presentes de los que decían.\n",
      "\n",
      "sancho dijo don quijote, y del cual se le había dicho, y de la cual no hay para qué todo lo cual respondió don quijote\n",
      "\n",
      "DIVERSITY:  1\n",
      "mire vuestra merced por hacer dijo don quijote; porque sea alto de bendite y respondió sancho.\n",
      "\n",
      "de los días y los fravequísimos por el zuento\n",
      "que los días soldea del jado un bato que pedía y que no debe ha de parar confuso, y querría, vio que en tanto trabajo de mi ínpe, y que jamás haya sin hacer\n",
      "de dios paréceme; que le consintió del bestia.\n",
      "yole\n",
      "acebcar el ago, movimo de poco\n",
      "monteniente y sentado entre los escude\n",
      "\n",
      "DIVERSITY:  1.2\n",
      "mire vuestra merced se ha\n",
      "de hacer, sin poco tágar\n",
      "alzamente, sino pór la orden de la cóleria, ni dueles,\n",
      "y plítima y ante y valen; y aun de\n",
      "cendida, porque en los reglos ni otro, al percinesco o la una ventana, las labradoras de\n",
      "rasca ¿figura es ása. y, aunque las mejores antuverseles le pustáredes, sino los jamás de gobernador y grandeiero, jrocia; porque le habían\n",
      "húbito pedía, y\n",
      "a los granjes\n",
      "dijo sancho que en s\n",
      "\n",
      "DIVERSITY:  0.2\n",
      "a mi señora dulcinea del toboso, y que el que los hallares en\n",
      "el mundo que le había de ser de los caballeros andantes que en la memoria de la mano en la cosa de su amo y de mi padre y lo que parece que se le habían de hacer esta nueva en la cabeza, y que el trabajo de la caballería de la mancha, que es tan buena como si los habían de ser de la mano y de manera que el cielo no le había de ser de los caballeros andante\n",
      "\n",
      "DIVERSITY:  0.5\n",
      "a mi señora dulcinea, desta lanza en las manos del alma que es la vida de la lanza, y aun de cuanto más de los señores del ánimo de la cabeza, y de los\n",
      "escuderos de los caballeros andantes. pero, con todo eso, se fue un grande estremo de la hora, que no se aventajaba a ver si se le ha de ser de los caballeros andantes. viendo la cabeza hermosura, que es que no hay más dicho y aconteció\n",
      "que el duque de mí me ha de ser\n",
      "\n",
      "DIVERSITY:  1\n",
      "a mi señora dulcinea del temor, acordó por los ojos sobre la fila, o ya es asímilla,\n",
      "   el traje en zas veces que tengo de dos horas de memoria, yo me manda al caballero de los perernagios, preguntaron en brazo a cuestas cuáles de nuestro mío y\n",
      "fin el dulto de bacía y valiente al pajo de alcanzar lo que le\n",
      "dulces para lotes, por lo menos de\n",
      "saber quién malice o autros vuestras voces; los cuales entraron más fiembro!\n",
      "\n",
      "\n",
      "DIVERSITY:  1.2\n",
      "a mi señora dulcinea que\n",
      "continule leído, y que ganar\n",
      "ninguna dal mundo!\n",
      "\n",
      "tú imaginación y rompase.\n",
      "\n",
      "eso no fuere poder por ser luego, toda rescubierte y verdadera venturosas pasos como los días, yo, volviendo entre en\n",
      "umbañado, pero ¡ombusiclero ni azándo las descapitán los tarderes miligros del aire, sobre el uno, de cuatro reobles y dejallado y paciones de\n",
      "maese pedro? recebían de valieron, aunque me\n",
      "diera ni tant\n",
      "\n",
      "DIVERSITY:  0.2\n",
      "el caballero andante, que es posible de la mano en la mano y de la cual ni más de la mano en la cuenta de su amo y con la mano en la mano y de aquellos que están en el mundo que le dijese que el cielo le había de ser de la mancha, que es tan buen señor don quijote, y de la mancha que le dejó el cura, y el cual visto por la mano, y que el tal caballero de la caballería que es la memoria la cabeza, y que el que le dies\n",
      "\n",
      "DIVERSITY:  0.5\n",
      "el caballero andante, y de los caballeros andantes. en esto de los que le había visto la ventana, y de los caballeros de los caballeros andantes que yo puede dar a mi padre y en un castillo de la noche, y es que se le estaba de poco más de la mano en todo cuanto has dicho, que no será más de lo que pasó el mayor que le habían de hacer por el retirar el barbero en tu ligero, y todo lo cual ya de allí\n",
      "a pierna de la qu\n",
      "\n",
      "DIVERSITY:  1\n",
      "el caballero andante, naviso de lo que quiere yo vea sino\n",
      "hablar por todo aquella noche, que te saca que es él solos dijo lotario los avisar por donde no era? verdad, le llegó\n",
      "a dorotea, que procuran topado el libro de mi tierra, a aquel aldea, el labrador\n",
      "de la señora don quijote por una, no es posible que resitn melindrosa; y no se me da placer el\n",
      "hombre, que quedarán\n",
      "tantos\n",
      "hidalgos, aunque virásolemente, y no te \n",
      "\n",
      "DIVERSITY:  1.2\n",
      "el caballero andante con el que la quiteria, se úsoló la derácueza y son tantas impertilecesas\n",
      "que don quijote que, si se replárado y ama de ser procicios\n",
      "de gautas veumas ¡entra mí para imitar se le esto, y, digió su donor con justa invozce como una, oyendo\n",
      "escribe a los ojos blancas de don qiien pudo ser medio abríar lo que los escribe lomohillos, él comiédade muy\n",
      "discreta respondió suele defecho,\n",
      "que si las costas\n"
     ]
    }
   ],
   "source": [
    "\n",
    "sentence = 'mire vuestra merced '\n",
    "generate_text(sentence, 0.2, model1)\n",
    "generate_text(sentence, 0.5, model1)\n",
    "generate_text(sentence, 1,   model1)\n",
    "generate_text(sentence, 1.2, model1)\n",
    "\n",
    "\n",
    "sentence = 'a mi señora dulcinea'\n",
    "generate_text(sentence, 0.2, model1)\n",
    "generate_text(sentence, 0.5, model1)\n",
    "generate_text(sentence, 1,   model1)\n",
    "generate_text(sentence, 1.2, model1)\n",
    "\n",
    "\n",
    "sentence = 'el caballero andante'\n",
    "generate_text(sentence, 0.2, model1)\n",
    "generate_text(sentence, 0.5, model1)\n",
    "generate_text(sentence, 1,   model1)\n",
    "generate_text(sentence, 1.2, model1)\n"
   ]
  },
  {
   "cell_type": "raw",
   "metadata": {
    "collapsed": true
   },
   "source": [
    "('\\n\\nDIVERSITY: ', 0.2, '\\n')\n",
    "mire vuestra merced decís, y que se le pareció que en la cabeza de la cabeza, y el caballero del caballero de la cabeza, y los demás de los demás de los demás de los demás de la mano de la mujer de la mano de la mano, y aun a su señora dulcinea del toboso, y el cura que el caballero de la mano que le pareció que estaba en la misma cosa que en la mitad del caballero de la mano, se le dijo:\n",
    "\n",
    "-no sé -respondi\n",
    "('\\n\\nDIVERSITY: ', 0.5, '\\n')\n",
    "mire vuestra merced que no está en la cabeza. pero, en efeto, pues todo aquello que está en el mundo que cada uno debía\n",
    "de ser con la misma sierra parte de la muerte de la mano, con todo el mundo me la conoció, que tenía por el primero que están el rostro en las manos, y al señor don quijote -respondió sancho-, porque en la puerta de los sucesos del buen estado de la desencantada de los ojos.\n",
    "\n",
    "-¿qué mal \n",
    "('\\n\\nDIVERSITY: ', 1, '\\n')\n",
    "mire vuestra merced que, aunque, desdicho y tiempo viene, a\n",
    "cuya cabeza destos tres, los informaciones que dejara de serle, que me fueron? ¿admirado,\n",
    "\n",
    "y, creyendo que me va y enfermo. y esto que tienen entonces las requiebros que algunos limpios en un ampeoso como si improvisentes en sus insimulables y en los míos al que el honesto, en la mano de mucho premio y don quijote fingióno los dos o sabidores, y,\n",
    "acom\n",
    "('\\n\\nDIVERSITY: ', 1.2, '\\n')\n",
    "mire vuestra merced paso que no sa cluero-. subió, señor,\n",
    "le hubiera vuelto el duque, que pica, yo fue pose�ría de guardar cierto. para los demás, esperando la misma tragua debe de haberlas hallado su santa hijo ni debían para mí, porque yo hay de platar pre subir tú turba -dijo el deleitable-; otras porturas, sino como alabanzas y\n",
    "comedimientos puciese\n",
    "los días de lo que von mirado después de\n",
    "visión de\n",
    "('\\n\\nDIVERSITY: ', 0.2, '\\n')\n",
    "de lo que sucedió a la mano de la mano de la mano de los ojos de la mano de la mano de la mano, y aun más que se le dijese la mano de la mano y en la mitad del caballero del caballero de la mano de la mano, y que el parte de la mano, y que en la mitad del caballero de la mano, sino a la puerta de la mano de la mano de la mano de los demás de la cabeza, y el cura y la cabeza de la mano y en la cabeza de la cabeza, \n",
    "('\\n\\nDIVERSITY: ', 0.5, '\\n')\n",
    "de lo que sucedió a camila, por ser tan alta de la mano y en voz brazo? ¿qué es lo que pudiera, señor don quijote que en las fermosuras que después que le sacarán con don quijote había de ser la duquesa, la cual no le había de ser muy buena como gausa, y si este deseo de ser mejor que en la cabeza está a los dos de la mano, y su amo no le puede dar a su casa por los manos de mano, diciendo:\n",
    "\n",
    "-pues, ¿qué \n",
    "('\\n\\nDIVERSITY: ', 1, '\\n')\n",
    "de lo que sucedió a las más faltas cuentan haciendo:\n",
    "\n",
    "-�qcorrían por esto, bueno -respondió cómo está aquel mano traía furia por ella estajo\n",
    "más que andaba y fingión de sus apartieron de modo que no\n",
    "hay vasto qué hizo con galdáis que soy sin duda, duque ni en la más\n",
    "buena gran señora dulcinea; y así lo han don quijote y no bastaba junto a nuestra\n",
    "señora dulcinea, ahora\n",
    "la entienda, el aposento a\n",
    "('\\n\\nDIVERSITY: ', 1.2, '\\n')\n",
    "de lo que sucedió al\n",
    "admiración, dijo:\n",
    "\n",
    "-eso me esplevo en razón encantada, y su venimo tiempo, que pasaba tan hirtoria. es\n",
    "\n",
    "don quijote, le dijo:\n",
    "\n",
    "y cuando jamás:\n",
    "  si ya entienden en mi padre desde aquí vean fuerza, como yo\n",
    "costa yo he oído decir, el rey\n",
    "\n",
    "vención que ésto, que lo més comenzó a vuestra merced colgaré por la orden y parece que\n",
    "pudieron semplarse. el cual, si de la mono.\n",
    "acudi�\n",
    "('\\n\\nDIVERSITY: ', 0.2, '\\n')\n",
    "de allí a poco comenzó a su caballero andante, que en la más hermosa de la mano, y el cura que el mundo tenía con el cura y el de la mano de la cabeza de la mano de la mano de la mano de la mano de la cabeza, y a los demás de los cuatro de la mano de la mano de la mano y en la mitad del caballero de la cabeza, y le dijo:\n",
    "\n",
    "-¡oh sancho -dijo el cura-, que no se le habían de ser manos de los demás de los de la\n",
    "('\\n\\nDIVERSITY: ', 0.5, '\\n')\n",
    "de allí a poco comenzó a la vida de la mano de\n",
    "arriba al mundo. pero, con todo eso, ha de ser el rostro de las linajes de su escudero. por el rey en el mundo de la industria que en su caballero andante; y, aunque se volvió a camila y de la mano de la muerte de mi cabeza? y así, como el tal caballero andante, que los demás juramentos, y con la mitad del toboso, y así, por decir que os son de allí a los deseos \n",
    "('\\n\\nDIVERSITY: ', 1, '\\n')\n",
    "de allí a poco comenzó\n",
    "a dos crazos de entender que tratar la nueva al desde nuevas andantes de solos con los detros donde me hubieran\n",
    "de subir la sumiera y rabia la duquesa\n",
    "   a un hacer con un gato, que le\n",
    "dijo juntar la locura para su\n",
    "amo, para que quisieron decir alguna, vino\n",
    "todas aquellos demás caballeros. pero, sancho, tanto, viendo camila la primero tiene: prodición\n",
    "que yo le dio caminar las belloz\n",
    "('\\n\\nDIVERSITY: ', 1.2, '\\n')\n",
    "de allí a poco comer. otros días se le pidía hablar de cerra\n",
    "   que el gate predice\n",
    "y otras puntas del cordel bestia.\n",
    "\n",
    "-yo no por eso, decaría sobre la venta, porque él saslos demás sin él que\n",
    "llevase a buscar de la suma, sancho milático, cuando posían los zogados. y si así, mi rendido a\n",
    "cuerpo, ni en llopar salió el baece-, que el hábísimo que viene por\n",
    "los tratas y tontos que sean, y el de los"
   ]
  },
  {
   "cell_type": "code",
   "execution_count": null,
   "metadata": {
    "collapsed": true
   },
   "outputs": [],
   "source": []
  }
 ],
 "metadata": {
  "anaconda-cloud": {},
  "kernelspec": {
   "display_name": "Python [conda env:tm]",
   "language": "python",
   "name": "conda-env-tm-py"
  },
  "language_info": {
   "codemirror_mode": {
    "name": "ipython",
    "version": 3
   },
   "file_extension": ".py",
   "mimetype": "text/x-python",
   "name": "python",
   "nbconvert_exporter": "python",
   "pygments_lexer": "ipython3",
   "version": "3.5.4"
  }
 },
 "nbformat": 4,
 "nbformat_minor": 1
}
